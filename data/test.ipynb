{
 "cells": [
  {
   "cell_type": "code",
   "execution_count": null,
   "id": "e19cfa5b",
   "metadata": {},
   "outputs": [
    {
     "ename": "",
     "evalue": "",
     "output_type": "error",
     "traceback": [
      "\u001b[1;31mFailed to start the Kernel. \n",
      "\u001b[1;31mUnable to start Kernel '.venv (Python 3.13.3)' due to a timeout waiting for the ports to get used. \n",
      "\u001b[1;31mView Jupyter <a href='command:jupyter.viewOutput'>log</a> for further details."
     ]
    }
   ],
   "source": [
    "import laspy\n",
    "import numpy as np\n",
    "import pyvista as pv\n",
    "\n",
    "\n",
    "\n",
    "# Read LAZ file (requires LASzip backend)\n",
    "las = laspy.read(\"GK_403_39.laz\", laz_backend=laspy.LazBackend.Laszip)\n",
    "# Get coordinates and classifications\n",
    "xyz = np.vstack([las.x, las.y, las.z]).transpose()\n",
    "#colors = np.vstack([las.red, las.green, las.blue]).transpose()  # if RGB data exists\n",
    "\n",
    "print(\"Las:\", las)\n",
    "classification = las.classification  # ground vs vegetation\n",
    "\n",
    "ground_points = xyz[classification == 2]\n",
    "\n",
    "# Downsample for better performance (keep 10% of points)\n",
    "downsampled = ground_points[::10]\n",
    "\n",
    "# Create point cloud\n",
    "cloud = pv.PolyData(downsampled)\n",
    "cloud[\"elevation\"] = downsampled[:,2]\n",
    "\n",
    "# Create plotter\n",
    "plotter = pv.Plotter()\n",
    "plotter.add_mesh(cloud, point_size=2, scalars=\"elevation\")\n",
    "plotter.show_axes()\n",
    "plotter.show()"
   ]
  },
  {
   "cell_type": "code",
   "execution_count": null,
   "id": "1e237190",
   "metadata": {},
   "outputs": [
    {
     "ename": "",
     "evalue": "",
     "output_type": "error",
     "traceback": [
      "\u001b[1;31mFailed to interrupt the Kernel. \n",
      "\u001b[1;31mUnable to start Kernel '.venv (Python 3.13.3)' due to a timeout waiting for the ports to get used. \n",
      "\u001b[1;31mView Jupyter <a href='command:jupyter.viewOutput'>log</a> for further details."
     ]
    }
   ],
   "source": [
    "from scipy.interpolate import griddata\n",
    "import matplotlib.pyplot as plt\n",
    "\n",
    "# Create grid\n",
    "xmin, xmax = np.min(xyz[:,0]), np.max(xyz[:,0])\n",
    "ymin, ymax = np.min(xyz[:,1]), np.max(xyz[:,1])\n",
    "xi = np.linspace(xmin, xmax, 1000)\n",
    "yi = np.linspace(ymin, ymax, 1000)\n",
    "xi, yi = np.meshgrid(xi, yi)\n",
    "\n",
    "# Interpolate elevations\n",
    "zi = griddata((xyz[:,0], xyz[:,1]), xyz[:,2], (xi, yi), method='linear')\n",
    "\n",
    "# Plot DEM\n",
    "plt.figure(figsize=(10, 8))\n",
    "plt.imshow(zi, extent=[xmin, xmax, ymin, ymax], cmap='terrain')\n",
    "plt.colorbar(label='Elevation (m)')\n",
    "plt.show()"
   ]
  }
 ],
 "metadata": {
  "kernelspec": {
   "display_name": ".venv",
   "language": "python",
   "name": "python3"
  },
  "language_info": {
   "codemirror_mode": {
    "name": "ipython",
    "version": 3
   },
   "file_extension": ".py",
   "mimetype": "text/x-python",
   "name": "python",
   "nbconvert_exporter": "python",
   "pygments_lexer": "ipython3",
   "version": "3.13.3"
  }
 },
 "nbformat": 4,
 "nbformat_minor": 5
}
